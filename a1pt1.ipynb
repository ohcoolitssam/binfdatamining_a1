{
 "cells": [
  {
   "cell_type": "code",
   "execution_count": 4,
   "metadata": {},
   "outputs": [],
   "source": [
    "#created and edited by Samuel Phillips\n",
    "\n",
    "#imports for data, classes and more\n",
    "from pandas import DataFrame\n",
    "import numpy as np\n",
    "import d_similarity_measure\n",
    "import csv\n",
    "from sklearn.datasets import load_iris"
   ]
  },
  {
   "cell_type": "code",
   "execution_count": 5,
   "metadata": {},
   "outputs": [],
   "source": [
    "#function to get either euclidean or cosine distance from two vars\n",
    "def getDist(mType, a1, a2):\n",
    "    if mType == 'Euclidean' or mType == 'euclidean':\n",
    "        object_get_similarity = d_similarity_measure.simimarity_measure(a1, a2)\n",
    "        euclidean_distance = object_get_similarity.get_euclidean()\n",
    "        x = euclidean_distance\n",
    "    elif mType == 'Cosine' or mType == 'cosine':\n",
    "        object_get_similarity = d_similarity_measure.simimarity_measure(a1, a2)\n",
    "        cosine_distance = object_get_similarity.get_cosine()\n",
    "        x = cosine_distance\n",
    "    return x\n",
    "\n",
    "#function that splits a long list into segments for showing better data\n",
    "def splitList(l,n):\n",
    "    for i in range(0, len(l), n):\n",
    "        yield l[i:i+n]"
   ]
  },
  {
   "cell_type": "code",
   "execution_count": 6,
   "metadata": {},
   "outputs": [],
   "source": [
    "#iris data is loaded\n",
    "iris = load_iris()\n",
    "iris_data = iris.data\n",
    "\n",
    "#data lists are created\n",
    "e = []\n",
    "c = []\n",
    "\n",
    "#nested for loop that gets the cosine and euclidean distance \n",
    "#between every two plants in the iris data\n",
    "for i in range(0, len(iris_data)):\n",
    "    for q in range(0, len(iris_data)):\n",
    "        c.append(getDist('Cosine', iris_data[i], iris_data[q]))\n",
    "        e.append(getDist('Euclidean', iris_data[i], iris_data[q]))\n",
    "\n",
    "#long list of cosine distances is split into 150 lists of 150 distances\n",
    "x = list(splitList(c, 150))\n",
    "\n",
    "#long list of cosine distances is split into 150 lists of 150 distances\n",
    "y = list(splitList(e, 150))\n",
    "\n",
    "#data frame for the cosine distance data is created\n",
    "cos = DataFrame(x)\n",
    "#convert dataframe into csv file\n",
    "cos.to_csv('iris_cosine.csv') \n",
    "\n",
    "#data frame for the cosine distance data is created\n",
    "euc = DataFrame(y)\n",
    "#convert dataframe into csv file\n",
    "euc.to_csv('iris_euclidean.csv') "
   ]
  },
  {
   "cell_type": "code",
   "execution_count": null,
   "metadata": {},
   "outputs": [],
   "source": []
  },
  {
   "cell_type": "code",
   "execution_count": null,
   "metadata": {},
   "outputs": [],
   "source": []
  }
 ],
 "metadata": {
  "kernelspec": {
   "display_name": "Python 3",
   "language": "python",
   "name": "python3"
  },
  "language_info": {
   "codemirror_mode": {
    "name": "ipython",
    "version": 3
   },
   "file_extension": ".py",
   "mimetype": "text/x-python",
   "name": "python",
   "nbconvert_exporter": "python",
   "pygments_lexer": "ipython3",
   "version": "3.8.5"
  }
 },
 "nbformat": 4,
 "nbformat_minor": 4
}
